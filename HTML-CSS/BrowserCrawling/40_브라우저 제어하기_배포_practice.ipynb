{
 "cells": [
  {
   "cell_type": "markdown",
   "metadata": {},
   "source": [
    "# 웹드라이버 객체 생성\n",
    "- 웹드라이버 : 브라우저 조작을 위한 도구\n",
    "- selenium의 webdriver 모듈에서 Chrome 브라우저를 제어하기 위한 클래스 제공"
   ]
  },
  {
   "cell_type": "code",
   "execution_count": 1,
   "metadata": {},
   "outputs": [
    {
     "name": "stdout",
     "output_type": "stream",
     "text": [
      "Requirement already satisfied: selenium==4.17.0 in /Library/Frameworks/Python.framework/Versions/3.13/lib/python3.13/site-packages (4.17.0)\n",
      "Requirement already satisfied: urllib3<3,>=1.26 in /Library/Frameworks/Python.framework/Versions/3.13/lib/python3.13/site-packages (from urllib3[socks]<3,>=1.26->selenium==4.17.0) (2.3.0)\n",
      "Requirement already satisfied: trio~=0.17 in /Library/Frameworks/Python.framework/Versions/3.13/lib/python3.13/site-packages (from selenium==4.17.0) (0.28.0)\n",
      "Requirement already satisfied: trio-websocket~=0.9 in /Library/Frameworks/Python.framework/Versions/3.13/lib/python3.13/site-packages (from selenium==4.17.0) (0.11.1)\n",
      "Requirement already satisfied: certifi>=2021.10.8 in /Library/Frameworks/Python.framework/Versions/3.13/lib/python3.13/site-packages (from selenium==4.17.0) (2025.1.31)\n",
      "Requirement already satisfied: attrs>=23.2.0 in /Library/Frameworks/Python.framework/Versions/3.13/lib/python3.13/site-packages (from trio~=0.17->selenium==4.17.0) (25.1.0)\n",
      "Requirement already satisfied: sortedcontainers in /Library/Frameworks/Python.framework/Versions/3.13/lib/python3.13/site-packages (from trio~=0.17->selenium==4.17.0) (2.4.0)\n",
      "Requirement already satisfied: idna in /Library/Frameworks/Python.framework/Versions/3.13/lib/python3.13/site-packages (from trio~=0.17->selenium==4.17.0) (3.10)\n",
      "Requirement already satisfied: outcome in /Library/Frameworks/Python.framework/Versions/3.13/lib/python3.13/site-packages (from trio~=0.17->selenium==4.17.0) (1.3.0.post0)\n",
      "Requirement already satisfied: sniffio>=1.3.0 in /Library/Frameworks/Python.framework/Versions/3.13/lib/python3.13/site-packages (from trio~=0.17->selenium==4.17.0) (1.3.1)\n",
      "Requirement already satisfied: wsproto>=0.14 in /Library/Frameworks/Python.framework/Versions/3.13/lib/python3.13/site-packages (from trio-websocket~=0.9->selenium==4.17.0) (1.2.0)\n",
      "Requirement already satisfied: pysocks!=1.5.7,<2.0,>=1.5.6 in /Library/Frameworks/Python.framework/Versions/3.13/lib/python3.13/site-packages (from urllib3[socks]<3,>=1.26->selenium==4.17.0) (1.7.1)\n",
      "Requirement already satisfied: h11<1,>=0.9.0 in /Library/Frameworks/Python.framework/Versions/3.13/lib/python3.13/site-packages (from wsproto>=0.14->trio-websocket~=0.9->selenium==4.17.0) (0.14.0)\n",
      "\n",
      "\u001b[1m[\u001b[0m\u001b[34;49mnotice\u001b[0m\u001b[1;39;49m]\u001b[0m\u001b[39;49m A new release of pip is available: \u001b[0m\u001b[31;49m24.3.1\u001b[0m\u001b[39;49m -> \u001b[0m\u001b[32;49m25.0.1\u001b[0m\n",
      "\u001b[1m[\u001b[0m\u001b[34;49mnotice\u001b[0m\u001b[1;39;49m]\u001b[0m\u001b[39;49m To update, run: \u001b[0m\u001b[32;49mpip3.13 install --upgrade pip\u001b[0m\n",
      "Note: you may need to restart the kernel to use updated packages.\n"
     ]
    }
   ],
   "source": [
    "pip install selenium==4.17.0"
   ]
  },
  {
   "cell_type": "code",
   "execution_count": 2,
   "metadata": {},
   "outputs": [
    {
     "name": "stdout",
     "output_type": "stream",
     "text": [
      "Name: selenium\n",
      "Version: 4.17.0\n",
      "Summary: \n",
      "Home-page: https://www.selenium.dev\n",
      "Author: \n",
      "Author-email: \n",
      "License: Apache 2.0\n",
      "Location: /Library/Frameworks/Python.framework/Versions/3.13/lib/python3.13/site-packages\n",
      "Requires: certifi, trio, trio-websocket, urllib3\n",
      "Required-by: \n",
      "Note: you may need to restart the kernel to use updated packages.\n"
     ]
    }
   ],
   "source": [
    "pip show selenium"
   ]
  },
  {
   "cell_type": "code",
   "execution_count": 25,
   "metadata": {},
   "outputs": [],
   "source": [
    "# 크롬 웹드라이버 클래스 import\n",
    "\n",
    "from selenium.webdriver import Chrome, safari, Firefox, Edge\n",
    "# 크롬 웹드라이버 객체 생성\n",
    "driver = Chrome()"
   ]
  },
  {
   "cell_type": "markdown",
   "metadata": {},
   "source": [
    "# 브라우저 제어\n",
    "    - `get(URL)` : 페이지로 이동하기기\n",
    "    - `back()` : 뒤로가기\n",
    "    - `forward()` : 앞으로가기\n",
    "    - `refresh()` : 새로고침\n",
    "    - `maximize_window()` : 브라우저크기 최대화\n",
    "    - `minimize_window()` : 브라우저크기 최소화\n",
    "    - `close()` : 웹드라이버로 생성한 현재 창 종료\n",
    "    - `quit()` : 웹드라이버로 생성한 모든 창 종료"
   ]
  },
  {
   "cell_type": "code",
   "execution_count": 68,
   "metadata": {},
   "outputs": [
    {
     "data": {
      "text/plain": [
       "{'height': 1371, 'width': 1200, 'x': 1350, 'y': 50}"
      ]
     },
     "execution_count": 68,
     "metadata": {},
     "output_type": "execute_result"
    }
   ],
   "source": [
    "driver.set_window_position(1350,50)"
   ]
  },
  {
   "cell_type": "code",
   "execution_count": 23,
   "metadata": {},
   "outputs": [],
   "source": [
    "driver.back()"
   ]
  },
  {
   "cell_type": "code",
   "execution_count": 5,
   "metadata": {},
   "outputs": [],
   "source": [
    "# 페이지 이동1\n",
    "driver.get('https://www.google.com')\n",
    "# 페이지 이동2\n",
    "driver.get('https://www.daum.net')\n",
    "# 페이지 이동3\n",
    "driver.get('https://www.naver.com')"
   ]
  },
  {
   "cell_type": "code",
   "execution_count": 6,
   "metadata": {},
   "outputs": [],
   "source": [
    "# 이전 페이지로 이동\n",
    "driver.back()\n",
    "# 다음 페이지로 이동\n",
    "driver.forward()\n",
    "# 새로고침\n",
    "driver.refresh()\n",
    "# 웹드라이버로 생성한 모든 창 종료\n",
    "driver.quit()"
   ]
  },
  {
   "cell_type": "markdown",
   "metadata": {},
   "source": [
    "# 요소 가져오기\n",
    "    - `find_element(요소선택방법, 선택자)` : 첫번째 요소 한개만만 가져오기\n",
    "    - `find_elements(요소선택방법, 선택자)` : 요소 모두 가져오기 (리스트)"
   ]
  },
  {
   "cell_type": "code",
   "execution_count": 7,
   "metadata": {},
   "outputs": [],
   "source": [
    "# 웹페이지 열고 이동하기 (http://www.naver.com)\n"
   ]
  },
  {
   "cell_type": "code",
   "execution_count": 21,
   "metadata": {},
   "outputs": [],
   "source": [
    "# 검색창 선택하기\n",
    "from selenium.webdriver.common.by import By\n",
    "search = driver.find_element(By.CSS_SELECTOR, '#query')"
   ]
  },
  {
   "cell_type": "markdown",
   "metadata": {},
   "source": [
    "# 요소 제어하기\n",
    "    - `click()` : 요소 클릭\n",
    "    - `send_keys()` : 키 입력"
   ]
  },
  {
   "cell_type": "code",
   "execution_count": 22,
   "metadata": {},
   "outputs": [],
   "source": [
    "# 검색창 클릭\n",
    "search.click()\n",
    "# 검색어 입력\n",
    "search.send_keys('인스타그램' + '\\n')\n",
    "# 엔터키 입력\n",
    "# from selenium.webdriver.common.keys import Keys\n",
    "# search.send_keys(Keys.ENTER)"
   ]
  },
  {
   "cell_type": "code",
   "execution_count": 93,
   "metadata": {},
   "outputs": [],
   "source": [
    "# 브라우저 닫기\n",
    "driver.quit()"
   ]
  },
  {
   "cell_type": "code",
   "execution_count": 63,
   "metadata": {},
   "outputs": [],
   "source": [
    "url = 'https://finance.naver.com/news/mainnews.naver'\n",
    "\n",
    "from selenium.webdriver import Chrome\n",
    "from selenium.webdriver.common.by import By\n",
    "\n",
    "driver = Chrome()\n",
    "driver.get(url)"
   ]
  },
  {
   "cell_type": "code",
   "execution_count": 29,
   "metadata": {},
   "outputs": [
    {
     "name": "stdout",
     "output_type": "stream",
     "text": [
      "\"D-1\"…상·하방으로 최대 10% 변동성 '경고'\n",
      "올해만 27% 올랐다…\"2차전지와 반도체 부활 신호탄\"\n",
      "현대건설, '교량 붕괴 사고' 하루 만에 주가 반등 [핫종목]\n",
      "金 투자하면서 월배당… 신한운용, 금 커버드콜 ETF 내놓는다\n",
      "업비트 제재에 놀란 투자자들…뚜껑 열어보니 “정상 영업중\"\n",
      "美증시 휘청하자… 서학개미 ‘집단지성’ ETF 손실 구간 진입\n",
      "‘해킹 여파’ 20% 하락한 4대 코인…“대량 매도 움직임 없어…단기 영향” [투자360]\n",
      "\"엇갈리는 SK하이닉스…'HBM 소외' 삼전부터 챙겨\"\n",
      "일론 머스크 때문에?…테슬라 시총 1兆달러 또 깨졌다\n",
      "[속보] 코스피, 대기 모드…버블붕괴 vs 추가랠리 '분수령'\n",
      "우성금속, 글로벌 기업 수주 급증에 OP 10배↑…성안 품고 희토류 메탈바 시장 공략\n",
      "'삼성전자 인수설'에 클래시스 7%대 강세…장중 최고가 경신\n",
      "창업주 별세 후 급등한 동진쎄미켐…이튿날엔 약세\n",
      "ETF 급성장 속 펀드매니저 승률 높이려면?… 단순한 목표 설정하라[기고]\n",
      "\"한번 더 믿어보자\" 한두희 한화證 대표 연임한다…임추위 재선임 추천\n",
      "'5兆 대어' 테일러메이드 인수전 막 올랐다...RFP발송 [fn마켓워치]\n",
      "KB證 “양자컴퓨터, 5년 내로 상용화 시작될 것”\n",
      "iM證 “현대건설, 서울-세종 고속도로 붕괴로 350억 비용 추정”\n",
      "‘동학개미’의 귀환…韓주식형 ETF 투자액, 1년 만에 해외 추월 [투자360]\n",
      "美 경기둔화 신호 커져도 버티는 코스피…투심 위축 현실화될까 [투자360]\n"
     ]
    }
   ],
   "source": [
    "subject = driver.find_elements(By.CSS_SELECTOR, '.articleSubject')  # .articleSubject 클래스 선택자 / .은 클래스 선택자\n",
    "for s in subject:\n",
    "    print(s.text)"
   ]
  },
  {
   "cell_type": "code",
   "execution_count": 69,
   "metadata": {},
   "outputs": [
    {
     "name": "stdout",
     "output_type": "stream",
     "text": [
      "[['\"증시 조정 일시적\"...반등할 \\'세가지\\' 이유', '월가 대표 강세론자로 알려진 톰 리 펀드스트랫 공동창업자가 미국 증시에 대한 강한 자신감을 드러냈다. 25일(현지시간) CNBC에 따르.. 한국경제TV | 2025-02-26 10:25:47', '한국경제TV', '2025-02-26 10:25:47', 'https://n.news.naver.com/mnews/article/215/0001199891'], ['월 분배금 잘 나오는 美 커버드콜, 삼성자산운용 잘 팔았다', '삼성자산운용은 KODEX 미국배당커버드콜액티브 ETF(상장지수펀드)가 전체 커버드콜 ETF 36종 중 올해 개인 순매수 유입 1위를 기.. 머니투데이 | 2025-02-26 10:08:27', '머니투데이', '2025-02-26 10:08:27', 'https://n.news.naver.com/mnews/article/008/0005158398'], [\"가전 '4神' 음식물 처리기…애드바이오텍 주목하는 이유[마켓칼럼]\", '※한경 마켓PRO 텔레그램을 구독하시면 프리미엄 투자 콘텐츠를 보다 편리하게 볼 수 있습니다. 텔레그램에서 ‘마켓PRO’를 검색하면 가.. 한국경제 | 2025-02-26 10:08:20', '한국경제', '2025-02-26 10:08:20', 'https://n.news.naver.com/mnews/article/015/0005099390'], ['\"D-1\"…상·하방으로 최대 10% 변동성 \\'경고\\'', '엔비디아의 실적 발표가 하루 앞으로 다가온 가운데 월가에서도 주가 변동성을 둘러싼 경고음이 커지고 있다. 25일(현지시간) CNBC는 .. 한국경제TV | 2025-02-26 10:07:47', '한국경제TV', '2025-02-26 10:07:47', 'https://n.news.naver.com/mnews/article/215/0001199887'], ['올해만 27% 올랐다…\"2차전지와 반도체 부활 신호탄\"', \"삼성액티브자산운용의 'KoAct 테크핵심소재공급망액티브 ETF'가 차세대 2차전지 및 반도체 소재 시장의 성장 가능성에 힘입어 올해 들.. 한국경제TV | 2025-02-26 10:05:05\", '한국경제TV', '2025-02-26 10:05:05', 'https://n.news.naver.com/mnews/article/215/0001199886'], [\"현대건설, '교량 붕괴 사고' 하루 만에 주가 반등 [핫종목]\", '박현영 현대건설(000720) 주가가 서울세종고속도로 천안-안성구간 교량 붕괴 사고가 일어난 지 하루 만에 반등했다. 26일 오전 9시.. 뉴스1 | 2025-02-26 10:03:25', '뉴스1', '2025-02-26 10:03:25', 'https://n.news.naver.com/mnews/article/421/0008098391'], ['金 투자하면서 월배당… 신한운용, 금 커버드콜 ETF 내놓는다', '신한운용, 다음달 ‘SOL 골드커버드콜액티브’ 상장 국제 금 현물 추종… 연 4% 분배금 지급 목표 신한자산운용이 업계 최초로 금 투자.. 조선비즈 | 2025-02-26 10:01:10', '조선비즈', '2025-02-26 10:01:10', 'https://n.news.naver.com/mnews/article/366/0001056781'], ['업비트 제재에 놀란 투자자들…뚜껑 열어보니 “정상 영업중\"', '국내 1위 가상자산 거래소 업비트가 금융위원회 산하 금융정보분석원(FIU)으로부터 제재를 받는다. 제재 내용에는 영업 일부정지 3개월이.. 아시아경제 | 2025-02-26 09:56:29', '아시아경제', '2025-02-26 09:56:29', 'https://n.news.naver.com/mnews/article/277/0005552176'], ['美증시 휘청하자… 서학개미 ‘집단지성’ ETF 손실 구간 진입', '서학개미(미국 주식 개인 투자자)가 많이 투자한 미국 주식을 담은 상장지수펀드(ETF)가 잇달아 손실 구간에 진입했다. 도널드 트럼프 .. 조선비즈 | 2025-02-26 09:55:13', '조선비즈', '2025-02-26 09:55:13', 'https://n.news.naver.com/mnews/article/366/0001056779'], ['‘해킹 여파’ 20% 하락한 4대 코인…“대량 매도 움직임 없어…단기 영향” [투자360]', '비트코인·이더리움·리플·솔라나 하락률 -19.94% 과거 DMM·폴리네트워크 해킹 대비 큰 변동성 공포탐욕지수 21…6개월만에 ‘극심한.. 헤럴드경제 | 2025-02-26 09:55:11', '헤럴드경제', '2025-02-26 09:55:11', 'https://n.news.naver.com/mnews/article/016/0002434274'], ['\"엇갈리는 SK하이닉스…\\'HBM 소외\\' 삼전부터 챙겨\"', '고대역폭메모리(HBM) 훈풍 관련 수혜를 삼성전자가 제대로 받지 못했단 의견이 나왔다. 26일 한국경제TV에서 나민호 야천투자연구소 소.. 한국경제TV | 2025-02-26 09:55:07', '한국경제TV', '2025-02-26 09:55:07', 'https://n.news.naver.com/mnews/article/215/0001199883'], ['일론 머스크 때문에?…테슬라 시총 1兆달러 또 깨졌다', '테슬라 시가총액이 유럽에서의 판매량 급감 소식에 1조 달러(약 1432조 원) 아래로 주저앉았다. 주요 외신은 유럽 현지에서 일론 머스.. 서울경제 | 2025-02-26 09:46:11', '서울경제', '2025-02-26 09:46:11', 'https://n.news.naver.com/mnews/article/011/0004454898'], [\"[속보] 코스피, 대기 모드…버블붕괴 vs 추가랠리 '분수령'\", '코스피가 보합권에서 등락중이다. 우리시간으로 27일 새벽에 나올 엔비디아 실적 발표를 대기하며 관망세다. 실적 결과 보다는 향후 실적 .. 한국경제TV | 2025-02-26 09:44:16', '한국경제TV', '2025-02-26 09:44:16', 'https://n.news.naver.com/mnews/article/215/0001199872'], ['우성금속, 글로벌 기업 수주 급증에 OP 10배↑…성안 품고 희토류 메탈바 시장 공략', '오랜 기간 축적한 기술력과 신뢰를 바탕으로 희토류 제련 분야에서 독보적인 경쟁력을 확보해 고품질 희토류 제품을 생산할 계획입니다. 이를.. 파이낸셜뉴스 | 2025-02-26 09:41:14', '파이낸셜뉴스', '2025-02-26 09:41:14', 'https://n.news.naver.com/mnews/article/014/0005313527'], [\"'삼성전자 인수설'에 클래시스 7%대 강세…장중 최고가 경신\", '삼성전자 인수설에 미용 의료기기 업체 클래시스의 주가가 장중 사상 최고가를 갈아치웠다. 26일 한국거래소에 따르면 오전 9시 26분 현.. 뉴시스 | 2025-02-26 09:37:26', '뉴시스', '2025-02-26 09:37:26', 'https://n.news.naver.com/mnews/article/003/0013088615'], ['창업주 별세 후 급등한 동진쎄미켐…이튿날엔 약세', '동진쎄미켐 주가가 26일 장 초반 약세다. 시장이 별세한 창업주 이부섭 회장의 차남 승계가 유력하다는 해석에 무게를 실으면서 전날 올랐.. 한국경제 | 2025-02-26 09:22:14', '한국경제', '2025-02-26 09:22:14', 'https://n.news.naver.com/mnews/article/015/0005099360'], ['ETF 급성장 속 펀드매니저 승률 높이려면?… 단순한 목표 설정하라[기고]', '■ 기고 - 정상진 한국투자신탁운용 주식운용본부장 전 세계적으로 상장지수펀드(ETF) 시장이 급성장하고 있다. 최근 들어서는 유럽마저 .. 문화일보 | 2025-02-26 09:16:17', '문화일보', '2025-02-26 09:16:17', 'https://n.news.naver.com/mnews/article/021/0002692801'], ['\"한번 더 믿어보자\" 한두희 한화證 대표 연임한다…임추위 재선임 추천', '2년 임기 만료를 앞두고 있는 한두희 한화투자증권(003530) 대표의 연임이 사실상 확정됐다. 부동산 프로젝트 파이낸싱(PF) 충당금.. 뉴스1 | 2025-02-26 09:12:23', '뉴스1', '2025-02-26 09:12:23', 'https://n.news.naver.com/mnews/article/421/0008098171'], [\"'5兆 대어' 테일러메이드 인수전 막 올랐다...RFP발송 [fn마켓워치]\", '몸 값이 5조원 규모로 추정되는 골프 브랜드 테일러메이드 M&A(인수합병) 막이 올랐다. 테일러메이드의 대주주인 국내 사모펀드(PEF).. 파이낸셜뉴스 | 2025-02-26 09:06:22', '파이낸셜뉴스', '2025-02-26 09:06:22', 'https://n.news.naver.com/mnews/article/014/0005313488'], ['KB證 “양자컴퓨터, 5년 내로 상용화 시작될 것”', 'KB증권은 26일 양자컴퓨터 시장이 오는 2030년 전후인 향후 5년 내로 상용화가 시작될 것이라는 전망을 내놨다. 최근 IBM과 구글.. 조선비즈 | 2025-02-26 08:53:09', '조선비즈', '2025-02-26 08:53:09', 'https://n.news.naver.com/mnews/article/366/0001056742']]\n"
     ]
    }
   ],
   "source": [
    "subject = driver.find_elements(By.CSS_SELECTOR, '.block1')\n",
    "news_list = []\n",
    "for d in subject:\n",
    "    summary = d.find_element(By.CSS_SELECTOR, '.articleSummary').text\n",
    "    subject = d.find_element(By.CSS_SELECTOR, '.articleSubject').text\n",
    "    press = d.find_element(By.CSS_SELECTOR, '.press').text\n",
    "    wdate = d.find_element(By.CSS_SELECTOR, '.wdate').text\n",
    "    link = d.find_element(By.CSS_SELECTOR, '.articleSubject>a').get_attribute('href')\n",
    "    news_list.append([subject, summary, press, wdate, link])\n",
    "print(news_list)\n",
    "\n"
   ]
  },
  {
   "cell_type": "code",
   "execution_count": 31,
   "metadata": {},
   "outputs": [
    {
     "data": {
      "text/html": [
       "<div>\n",
       "<style scoped>\n",
       "    .dataframe tbody tr th:only-of-type {\n",
       "        vertical-align: middle;\n",
       "    }\n",
       "\n",
       "    .dataframe tbody tr th {\n",
       "        vertical-align: top;\n",
       "    }\n",
       "\n",
       "    .dataframe thead th {\n",
       "        text-align: right;\n",
       "    }\n",
       "</style>\n",
       "<table border=\"1\" class=\"dataframe\">\n",
       "  <thead>\n",
       "    <tr style=\"text-align: right;\">\n",
       "      <th></th>\n",
       "      <th>제목</th>\n",
       "      <th>요약</th>\n",
       "      <th>언론사</th>\n",
       "      <th>날짜</th>\n",
       "      <th>링크</th>\n",
       "    </tr>\n",
       "  </thead>\n",
       "  <tbody>\n",
       "    <tr>\n",
       "      <th>0</th>\n",
       "      <td>\"D-1\"…상·하방으로 최대 10% 변동성 '경고'</td>\n",
       "      <td>엔비디아의 실적 발표가 하루 앞으로 다가온 가운데 월가에서도 주가 변동성을 둘러싼 ...</td>\n",
       "      <td>한국경제TV</td>\n",
       "      <td>2025-02-26 10:07:47</td>\n",
       "      <td>https://n.news.naver.com/mnews/article/215/000...</td>\n",
       "    </tr>\n",
       "    <tr>\n",
       "      <th>1</th>\n",
       "      <td>올해만 27% 올랐다…\"2차전지와 반도체 부활 신호탄\"</td>\n",
       "      <td>삼성액티브자산운용의 'KoAct 테크핵심소재공급망액티브 ETF'가 차세대 2차전지 ...</td>\n",
       "      <td>한국경제TV</td>\n",
       "      <td>2025-02-26 10:05:05</td>\n",
       "      <td>https://n.news.naver.com/mnews/article/215/000...</td>\n",
       "    </tr>\n",
       "    <tr>\n",
       "      <th>2</th>\n",
       "      <td>현대건설, '교량 붕괴 사고' 하루 만에 주가 반등 [핫종목]</td>\n",
       "      <td>박현영 현대건설(000720) 주가가 서울세종고속도로 천안-안성구간 교량 붕괴 사고...</td>\n",
       "      <td>뉴스1</td>\n",
       "      <td>2025-02-26 10:03:25</td>\n",
       "      <td>https://n.news.naver.com/mnews/article/421/000...</td>\n",
       "    </tr>\n",
       "    <tr>\n",
       "      <th>3</th>\n",
       "      <td>金 투자하면서 월배당… 신한운용, 금 커버드콜 ETF 내놓는다</td>\n",
       "      <td>신한운용, 다음달 ‘SOL 골드커버드콜액티브’ 상장 국제 금 현물 추종… 연 4% ...</td>\n",
       "      <td>조선비즈</td>\n",
       "      <td>2025-02-26 10:01:10</td>\n",
       "      <td>https://n.news.naver.com/mnews/article/366/000...</td>\n",
       "    </tr>\n",
       "    <tr>\n",
       "      <th>4</th>\n",
       "      <td>업비트 제재에 놀란 투자자들…뚜껑 열어보니 “정상 영업중\"</td>\n",
       "      <td>국내 1위 가상자산 거래소 업비트가 금융위원회 산하 금융정보분석원(FIU)으로부터 ...</td>\n",
       "      <td>아시아경제</td>\n",
       "      <td>2025-02-26 09:56:29</td>\n",
       "      <td>https://n.news.naver.com/mnews/article/277/000...</td>\n",
       "    </tr>\n",
       "    <tr>\n",
       "      <th>5</th>\n",
       "      <td>美증시 휘청하자… 서학개미 ‘집단지성’ ETF 손실 구간 진입</td>\n",
       "      <td>서학개미(미국 주식 개인 투자자)가 많이 투자한 미국 주식을 담은 상장지수펀드(ET...</td>\n",
       "      <td>조선비즈</td>\n",
       "      <td>2025-02-26 09:55:13</td>\n",
       "      <td>https://n.news.naver.com/mnews/article/366/000...</td>\n",
       "    </tr>\n",
       "    <tr>\n",
       "      <th>6</th>\n",
       "      <td>‘해킹 여파’ 20% 하락한 4대 코인…“대량 매도 움직임 없어…단기 영향” [투자...</td>\n",
       "      <td>비트코인·이더리움·리플·솔라나 하락률 -19.94% 과거 DMM·폴리네트워크 해킹 ...</td>\n",
       "      <td>헤럴드경제</td>\n",
       "      <td>2025-02-26 09:55:11</td>\n",
       "      <td>https://n.news.naver.com/mnews/article/016/000...</td>\n",
       "    </tr>\n",
       "    <tr>\n",
       "      <th>7</th>\n",
       "      <td>\"엇갈리는 SK하이닉스…'HBM 소외' 삼전부터 챙겨\"</td>\n",
       "      <td>고대역폭메모리(HBM) 훈풍 관련 수혜를 삼성전자가 제대로 받지 못했단 의견이 나왔...</td>\n",
       "      <td>한국경제TV</td>\n",
       "      <td>2025-02-26 09:55:07</td>\n",
       "      <td>https://n.news.naver.com/mnews/article/215/000...</td>\n",
       "    </tr>\n",
       "    <tr>\n",
       "      <th>8</th>\n",
       "      <td>일론 머스크 때문에?…테슬라 시총 1兆달러 또 깨졌다</td>\n",
       "      <td>테슬라 시가총액이 유럽에서의 판매량 급감 소식에 1조 달러(약 1432조 원) 아래...</td>\n",
       "      <td>서울경제</td>\n",
       "      <td>2025-02-26 09:46:11</td>\n",
       "      <td>https://n.news.naver.com/mnews/article/011/000...</td>\n",
       "    </tr>\n",
       "    <tr>\n",
       "      <th>9</th>\n",
       "      <td>[속보] 코스피, 대기 모드…버블붕괴 vs 추가랠리 '분수령'</td>\n",
       "      <td>코스피가 보합권에서 등락중이다. 우리시간으로 27일 새벽에 나올 엔비디아 실적 발표...</td>\n",
       "      <td>한국경제TV</td>\n",
       "      <td>2025-02-26 09:44:16</td>\n",
       "      <td>https://n.news.naver.com/mnews/article/215/000...</td>\n",
       "    </tr>\n",
       "    <tr>\n",
       "      <th>10</th>\n",
       "      <td>우성금속, 글로벌 기업 수주 급증에 OP 10배↑…성안 품고 희토류 메탈바 시장 공략</td>\n",
       "      <td>오랜 기간 축적한 기술력과 신뢰를 바탕으로 희토류 제련 분야에서 독보적인 경쟁력을 ...</td>\n",
       "      <td>파이낸셜뉴스</td>\n",
       "      <td>2025-02-26 09:41:14</td>\n",
       "      <td>https://n.news.naver.com/mnews/article/014/000...</td>\n",
       "    </tr>\n",
       "    <tr>\n",
       "      <th>11</th>\n",
       "      <td>'삼성전자 인수설'에 클래시스 7%대 강세…장중 최고가 경신</td>\n",
       "      <td>삼성전자 인수설에 미용 의료기기 업체 클래시스의 주가가 장중 사상 최고가를 갈아치웠...</td>\n",
       "      <td>뉴시스</td>\n",
       "      <td>2025-02-26 09:37:26</td>\n",
       "      <td>https://n.news.naver.com/mnews/article/003/001...</td>\n",
       "    </tr>\n",
       "    <tr>\n",
       "      <th>12</th>\n",
       "      <td>창업주 별세 후 급등한 동진쎄미켐…이튿날엔 약세</td>\n",
       "      <td>동진쎄미켐 주가가 26일 장 초반 약세다. 시장이 별세한 창업주 이부섭 회장의 차남...</td>\n",
       "      <td>한국경제</td>\n",
       "      <td>2025-02-26 09:22:14</td>\n",
       "      <td>https://n.news.naver.com/mnews/article/015/000...</td>\n",
       "    </tr>\n",
       "    <tr>\n",
       "      <th>13</th>\n",
       "      <td>ETF 급성장 속 펀드매니저 승률 높이려면?… 단순한 목표 설정하라[기고]</td>\n",
       "      <td>■ 기고 - 정상진 한국투자신탁운용 주식운용본부장 전 세계적으로 상장지수펀드(ETF...</td>\n",
       "      <td>문화일보</td>\n",
       "      <td>2025-02-26 09:16:17</td>\n",
       "      <td>https://n.news.naver.com/mnews/article/021/000...</td>\n",
       "    </tr>\n",
       "    <tr>\n",
       "      <th>14</th>\n",
       "      <td>\"한번 더 믿어보자\" 한두희 한화證 대표 연임한다…임추위 재선임 추천</td>\n",
       "      <td>2년 임기 만료를 앞두고 있는 한두희 한화투자증권(003530) 대표의 연임이 사실...</td>\n",
       "      <td>뉴스1</td>\n",
       "      <td>2025-02-26 09:12:23</td>\n",
       "      <td>https://n.news.naver.com/mnews/article/421/000...</td>\n",
       "    </tr>\n",
       "    <tr>\n",
       "      <th>15</th>\n",
       "      <td>'5兆 대어' 테일러메이드 인수전 막 올랐다...RFP발송 [fn마켓워치]</td>\n",
       "      <td>몸 값이 5조원 규모로 추정되는 골프 브랜드 테일러메이드 M&amp;A(인수합병) 막이 올...</td>\n",
       "      <td>파이낸셜뉴스</td>\n",
       "      <td>2025-02-26 09:06:22</td>\n",
       "      <td>https://n.news.naver.com/mnews/article/014/000...</td>\n",
       "    </tr>\n",
       "    <tr>\n",
       "      <th>16</th>\n",
       "      <td>KB證 “양자컴퓨터, 5년 내로 상용화 시작될 것”</td>\n",
       "      <td>KB증권은 26일 양자컴퓨터 시장이 오는 2030년 전후인 향후 5년 내로 상용화가...</td>\n",
       "      <td>조선비즈</td>\n",
       "      <td>2025-02-26 08:53:09</td>\n",
       "      <td>https://n.news.naver.com/mnews/article/366/000...</td>\n",
       "    </tr>\n",
       "    <tr>\n",
       "      <th>17</th>\n",
       "      <td>iM證 “현대건설, 서울-세종 고속도로 붕괴로 350억 비용 추정”</td>\n",
       "      <td>iM증권은 경기 안성 고속도로 공사장 사고로 현대건설이 최고 2000억원의 비용을 ...</td>\n",
       "      <td>조선비즈</td>\n",
       "      <td>2025-02-26 08:52:09</td>\n",
       "      <td>https://n.news.naver.com/mnews/article/366/000...</td>\n",
       "    </tr>\n",
       "    <tr>\n",
       "      <th>18</th>\n",
       "      <td>‘동학개미’의 귀환…韓주식형 ETF 투자액, 1년 만에 해외 추월 [투자360]</td>\n",
       "      <td>2월 韓주식형 ETF 순자산 2.8조 증가…해외 ETF 2.32배 韓주식형 ETF ...</td>\n",
       "      <td>헤럴드경제</td>\n",
       "      <td>2025-02-26 08:48:15</td>\n",
       "      <td>https://n.news.naver.com/mnews/article/016/000...</td>\n",
       "    </tr>\n",
       "    <tr>\n",
       "      <th>19</th>\n",
       "      <td>美 경기둔화 신호 커져도 버티는 코스피…투심 위축 현실화될까 [투자360]</td>\n",
       "      <td>소비심리 악화에 美증시 기술주 내리막길…테슬라 8.4% 급락 엔비디아 실적발표 하루...</td>\n",
       "      <td>헤럴드경제</td>\n",
       "      <td>2025-02-26 08:44:10</td>\n",
       "      <td>https://n.news.naver.com/mnews/article/016/000...</td>\n",
       "    </tr>\n",
       "  </tbody>\n",
       "</table>\n",
       "</div>"
      ],
      "text/plain": [
       "                                                   제목  \\\n",
       "0                        \"D-1\"…상·하방으로 최대 10% 변동성 '경고'   \n",
       "1                      올해만 27% 올랐다…\"2차전지와 반도체 부활 신호탄\"   \n",
       "2                  현대건설, '교량 붕괴 사고' 하루 만에 주가 반등 [핫종목]   \n",
       "3                  金 투자하면서 월배당… 신한운용, 금 커버드콜 ETF 내놓는다   \n",
       "4                    업비트 제재에 놀란 투자자들…뚜껑 열어보니 “정상 영업중\"   \n",
       "5                  美증시 휘청하자… 서학개미 ‘집단지성’ ETF 손실 구간 진입   \n",
       "6   ‘해킹 여파’ 20% 하락한 4대 코인…“대량 매도 움직임 없어…단기 영향” [투자...   \n",
       "7                      \"엇갈리는 SK하이닉스…'HBM 소외' 삼전부터 챙겨\"   \n",
       "8                       일론 머스크 때문에?…테슬라 시총 1兆달러 또 깨졌다   \n",
       "9                  [속보] 코스피, 대기 모드…버블붕괴 vs 추가랠리 '분수령'   \n",
       "10    우성금속, 글로벌 기업 수주 급증에 OP 10배↑…성안 품고 희토류 메탈바 시장 공략   \n",
       "11                  '삼성전자 인수설'에 클래시스 7%대 강세…장중 최고가 경신   \n",
       "12                         창업주 별세 후 급등한 동진쎄미켐…이튿날엔 약세   \n",
       "13          ETF 급성장 속 펀드매니저 승률 높이려면?… 단순한 목표 설정하라[기고]   \n",
       "14             \"한번 더 믿어보자\" 한두희 한화證 대표 연임한다…임추위 재선임 추천   \n",
       "15          '5兆 대어' 테일러메이드 인수전 막 올랐다...RFP발송 [fn마켓워치]   \n",
       "16                       KB證 “양자컴퓨터, 5년 내로 상용화 시작될 것”   \n",
       "17              iM證 “현대건설, 서울-세종 고속도로 붕괴로 350억 비용 추정”   \n",
       "18       ‘동학개미’의 귀환…韓주식형 ETF 투자액, 1년 만에 해외 추월 [투자360]   \n",
       "19          美 경기둔화 신호 커져도 버티는 코스피…투심 위축 현실화될까 [투자360]   \n",
       "\n",
       "                                                   요약     언론사  \\\n",
       "0   엔비디아의 실적 발표가 하루 앞으로 다가온 가운데 월가에서도 주가 변동성을 둘러싼 ...  한국경제TV   \n",
       "1   삼성액티브자산운용의 'KoAct 테크핵심소재공급망액티브 ETF'가 차세대 2차전지 ...  한국경제TV   \n",
       "2   박현영 현대건설(000720) 주가가 서울세종고속도로 천안-안성구간 교량 붕괴 사고...     뉴스1   \n",
       "3   신한운용, 다음달 ‘SOL 골드커버드콜액티브’ 상장 국제 금 현물 추종… 연 4% ...    조선비즈   \n",
       "4   국내 1위 가상자산 거래소 업비트가 금융위원회 산하 금융정보분석원(FIU)으로부터 ...   아시아경제   \n",
       "5   서학개미(미국 주식 개인 투자자)가 많이 투자한 미국 주식을 담은 상장지수펀드(ET...    조선비즈   \n",
       "6   비트코인·이더리움·리플·솔라나 하락률 -19.94% 과거 DMM·폴리네트워크 해킹 ...   헤럴드경제   \n",
       "7   고대역폭메모리(HBM) 훈풍 관련 수혜를 삼성전자가 제대로 받지 못했단 의견이 나왔...  한국경제TV   \n",
       "8   테슬라 시가총액이 유럽에서의 판매량 급감 소식에 1조 달러(약 1432조 원) 아래...    서울경제   \n",
       "9   코스피가 보합권에서 등락중이다. 우리시간으로 27일 새벽에 나올 엔비디아 실적 발표...  한국경제TV   \n",
       "10  오랜 기간 축적한 기술력과 신뢰를 바탕으로 희토류 제련 분야에서 독보적인 경쟁력을 ...  파이낸셜뉴스   \n",
       "11  삼성전자 인수설에 미용 의료기기 업체 클래시스의 주가가 장중 사상 최고가를 갈아치웠...     뉴시스   \n",
       "12  동진쎄미켐 주가가 26일 장 초반 약세다. 시장이 별세한 창업주 이부섭 회장의 차남...    한국경제   \n",
       "13  ■ 기고 - 정상진 한국투자신탁운용 주식운용본부장 전 세계적으로 상장지수펀드(ETF...    문화일보   \n",
       "14  2년 임기 만료를 앞두고 있는 한두희 한화투자증권(003530) 대표의 연임이 사실...     뉴스1   \n",
       "15  몸 값이 5조원 규모로 추정되는 골프 브랜드 테일러메이드 M&A(인수합병) 막이 올...  파이낸셜뉴스   \n",
       "16  KB증권은 26일 양자컴퓨터 시장이 오는 2030년 전후인 향후 5년 내로 상용화가...    조선비즈   \n",
       "17  iM증권은 경기 안성 고속도로 공사장 사고로 현대건설이 최고 2000억원의 비용을 ...    조선비즈   \n",
       "18  2월 韓주식형 ETF 순자산 2.8조 증가…해외 ETF 2.32배 韓주식형 ETF ...   헤럴드경제   \n",
       "19  소비심리 악화에 美증시 기술주 내리막길…테슬라 8.4% 급락 엔비디아 실적발표 하루...   헤럴드경제   \n",
       "\n",
       "                     날짜                                                 링크  \n",
       "0   2025-02-26 10:07:47  https://n.news.naver.com/mnews/article/215/000...  \n",
       "1   2025-02-26 10:05:05  https://n.news.naver.com/mnews/article/215/000...  \n",
       "2   2025-02-26 10:03:25  https://n.news.naver.com/mnews/article/421/000...  \n",
       "3   2025-02-26 10:01:10  https://n.news.naver.com/mnews/article/366/000...  \n",
       "4   2025-02-26 09:56:29  https://n.news.naver.com/mnews/article/277/000...  \n",
       "5   2025-02-26 09:55:13  https://n.news.naver.com/mnews/article/366/000...  \n",
       "6   2025-02-26 09:55:11  https://n.news.naver.com/mnews/article/016/000...  \n",
       "7   2025-02-26 09:55:07  https://n.news.naver.com/mnews/article/215/000...  \n",
       "8   2025-02-26 09:46:11  https://n.news.naver.com/mnews/article/011/000...  \n",
       "9   2025-02-26 09:44:16  https://n.news.naver.com/mnews/article/215/000...  \n",
       "10  2025-02-26 09:41:14  https://n.news.naver.com/mnews/article/014/000...  \n",
       "11  2025-02-26 09:37:26  https://n.news.naver.com/mnews/article/003/001...  \n",
       "12  2025-02-26 09:22:14  https://n.news.naver.com/mnews/article/015/000...  \n",
       "13  2025-02-26 09:16:17  https://n.news.naver.com/mnews/article/021/000...  \n",
       "14  2025-02-26 09:12:23  https://n.news.naver.com/mnews/article/421/000...  \n",
       "15  2025-02-26 09:06:22  https://n.news.naver.com/mnews/article/014/000...  \n",
       "16  2025-02-26 08:53:09  https://n.news.naver.com/mnews/article/366/000...  \n",
       "17  2025-02-26 08:52:09  https://n.news.naver.com/mnews/article/366/000...  \n",
       "18  2025-02-26 08:48:15  https://n.news.naver.com/mnews/article/016/000...  \n",
       "19  2025-02-26 08:44:10  https://n.news.naver.com/mnews/article/016/000...  "
      ]
     },
     "execution_count": 31,
     "metadata": {},
     "output_type": "execute_result"
    }
   ],
   "source": [
    "import pandas as pd\n",
    "df = pd.DataFrame(news_list, columns=['제목', '요약', '언론사', '날짜', '링크'])\n",
    "df.to_csv('news.csv', index=False)\n",
    "df.to_excel('news.xlsx', index=False)\n",
    "df"
   ]
  },
  {
   "cell_type": "code",
   "execution_count": 92,
   "metadata": {},
   "outputs": [
    {
     "name": "stdout",
     "output_type": "stream",
     "text": [
      "2025-02-26\n"
     ]
    }
   ],
   "source": [
    "import datetime\n",
    "date = input('검색할 날짜(yyyymmdd) : ')\n",
    "if date == \"\":\n",
    "    date = datetime.datetime.now().strftime('%Y-%m-%d')\n",
    "else:\n",
    "    date = f'{date[:4]}-{date[4:6]}-{date[6:]}'\n",
    "print(date)"
   ]
  }
 ],
 "metadata": {
  "kernelspec": {
   "display_name": "Python 3",
   "language": "python",
   "name": "python3"
  },
  "language_info": {
   "codemirror_mode": {
    "name": "ipython",
    "version": 3
   },
   "file_extension": ".py",
   "mimetype": "text/x-python",
   "name": "python",
   "nbconvert_exporter": "python",
   "pygments_lexer": "ipython3",
   "version": "3.13.1"
  }
 },
 "nbformat": 4,
 "nbformat_minor": 2
}
