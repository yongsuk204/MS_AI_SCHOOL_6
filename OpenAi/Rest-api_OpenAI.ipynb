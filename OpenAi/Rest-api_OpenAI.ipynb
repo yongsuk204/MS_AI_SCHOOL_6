{
 "cells": [
  {
   "cell_type": "markdown",
   "metadata": {},
   "source": [
    "1. 엔드포인트\n",
    "2. 헤더\n",
    "3. 바디\n",
    "4. 메소드 - 포스트"
   ]
  },
  {
   "cell_type": "code",
   "execution_count": null,
   "metadata": {},
   "outputs": [],
   "source": [
    "import requests\n",
    "while True:\n",
    "    user_input = input(\"질문을 입력하세요(나가려면exit를 chill세요): \")\n",
    "    if user_input == \"exit\":\n",
    "        break\n",
    "    else:\n",
    "        end_point = 'https://ai-chrlin-1229.openai.azure.com/openai/deployments/gpt-4o-mini/chat/completions?api-version=2024-02-15-preview'\n",
    "        header_1 = {\n",
    "        'Content-Type':'application/json',\n",
    "        'api-key':'4K1PLoCwmruRcQksf1XSOnhfEGQU5O5OPjQIWEfleWoLl0yHerCaJQQJ99BCAC5RqLJXJ3w3AAAAACOGn6z1'\n",
    "        }\n",
    "        pay_load = {\n",
    "            \"messages\": [\n",
    "                {\n",
    "                    \"role\": \"system\",\n",
    "                    \"content\": [\n",
    "                        {\n",
    "                            \"type\": \"text\",\n",
    "                            \"text\": \"사용자가 정보를 찾는 데 도움이 되는 AI 도우미입니다.\"\n",
    "                        }\n",
    "                    ]\n",
    "                },\n",
    "                {\n",
    "                    \"role\": \"user\",\n",
    "                    \"content\": [\n",
    "                        {\n",
    "                            \"type\": \"text\",\n",
    "                            \"text\": user_input\n",
    "                        }\n",
    "                    ]\n",
    "                }\n",
    "            ],\n",
    "            \"temperature\": 0.7,\n",
    "            \"top_p\": 0.95,\n",
    "            \"max_tokens\": 800\n",
    "        }\n",
    "\n",
    "        response_1 = requests.post(url=end_point, headers=header_1, json=pay_load)\n",
    "        if response_1.status_code == 200:\n",
    "            response_json = response_1.json()\n",
    "            print(response_json[\"choices\"][0][\"message\"][\"content\"])\n",
    "            pass\n",
    "        else:\n",
    "            print('sorry')"
   ]
  },
  {
   "cell_type": "code",
   "execution_count": null,
   "metadata": {},
   "outputs": [
    {
     "name": "stdout",
     "output_type": "stream",
     "text": [
      "안녕하세요! 어떻게 도와드릴까요?\n"
     ]
    }
   ],
   "source": [
    "def chat_bot(user_input):\n",
    "    end_point = 'https://ai-chrlin-1229.openai.azure.com/openai/deployments/gpt-4o-mini/chat/completions?api-version=2024-02-15-preview'\n",
    "    header_1 = {\n",
    "            'Content-Type':'application/json',\n",
    "            'api-key':'4K1PLoCwmruRcQksf1XSOnhfEGQU5O5OPjQIWEfleWoLl0yHerCaJQQJ99BCAC5RqLJXJ3w3AAAAACOGn6z1'\n",
    "            }\n",
    "    pay_load = {\n",
    "                \"messages\": [\n",
    "                    {\n",
    "                        \"role\": \"system\",\n",
    "                        \"content\": [\n",
    "                            {\n",
    "                                \"type\": \"text\",\n",
    "                                \"text\": \"사용자가 정보를 찾는 데 도움이 되는 AI 도우미입니다.\"\n",
    "                            }\n",
    "                        ]\n",
    "                    },\n",
    "                    {\n",
    "                        \"role\": \"user\",\n",
    "                        \"content\": [\n",
    "                            {\n",
    "                                \"type\": \"text\",\n",
    "                                \"text\": user_input\n",
    "                            }\n",
    "                        ]\n",
    "                    }\n",
    "                ],\n",
    "                \"temperature\": 0.7,\n",
    "                \"top_p\": 0.95,\n",
    "                \"max_tokens\": 800\n",
    "            }\n",
    "    response_1 = requests.post(url=end_point, headers=header_1, json=pay_load)\n",
    "    if response_1.status_code == 200:\n",
    "        response_json = response_1.json()\n",
    "        return response_json[\"choices\"][0][\"message\"][\"content\"]\n",
    "    else:\n",
    "        print('sorry')\n",
    "\n",
    "# requests_12 = chat_bot('what is the weather today?')\n",
    "# print(requests_12)\n",
    "\n",
    "while True:\n",
    "    user_input = input(\"질문을 입력하세요(나가려면exit를 chill세요): \")\n",
    "    if user_input == \"exit\":\n",
    "        break\n",
    "    else:\n",
    "        response_1 = chat_bot(user_input)\n",
    "        print(response_1)"
   ]
  }
 ],
 "metadata": {
  "kernelspec": {
   "display_name": "Python 3",
   "language": "python",
   "name": "python3"
  },
  "language_info": {
   "codemirror_mode": {
    "name": "ipython",
    "version": 3
   },
   "file_extension": ".py",
   "mimetype": "text/x-python",
   "name": "python",
   "nbconvert_exporter": "python",
   "pygments_lexer": "ipython3",
   "version": "3.10.11"
  }
 },
 "nbformat": 4,
 "nbformat_minor": 2
}
