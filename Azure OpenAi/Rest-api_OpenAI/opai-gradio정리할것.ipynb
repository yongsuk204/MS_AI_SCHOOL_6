{
 "cells": [
  {
   "cell_type": "code",
   "execution_count": null,
   "metadata": {},
   "outputs": [],
   "source": [
    "import gradio as gr\n",
    "import time\n",
    "import random\n",
    "import os\n",
    "import json\n",
    "from dotenv import load_dotenv\n",
    "import requests\n",
    "\n",
    "# Add OpenAI import\n",
    "from openai import AzureOpenAI"
   ]
  },
  {
   "cell_type": "code",
   "execution_count": null,
   "metadata": {},
   "outputs": [],
   "source": [
    "endpoint = \"\"\n",
    "api_key = \"\"\n",
    "search_key = \"\"\n",
    "search_endpoint=\"\"\n",
    "index_name = \"\"\n",
    "semantic_configuration = \"\""
   ]
  },
  {
   "cell_type": "code",
   "execution_count": null,
   "metadata": {},
   "outputs": [],
   "source": [
    "# DALL-E-3\n",
    "end_point_2 = \"\"\n",
    "api_key_2 = \"\""
   ]
  },
  {
   "cell_type": "code",
   "execution_count": null,
   "metadata": {},
   "outputs": [
    {
     "name": "stderr",
     "output_type": "stream",
     "text": [
      "/Library/Frameworks/Python.framework/Versions/3.13/lib/python3.13/site-packages/gradio/components/chatbot.py:285: UserWarning: You have not specified a value for the `type` parameter. Defaulting to the 'tuples' format for chatbot messages, but this is deprecated and will be removed in a future version of Gradio. Please set type='messages' instead, which uses openai-style dictionaries with 'role' and 'content' keys.\n",
      "  warnings.warn(\n"
     ]
    },
    {
     "name": "stdout",
     "output_type": "stream",
     "text": [
      "* Running on local URL:  http://127.0.0.1:7863\n",
      "\n",
      "To create a public link, set `share=True` in `launch()`.\n"
     ]
    },
    {
     "data": {
      "text/html": [
       "<div><iframe src=\"http://127.0.0.1:7863/\" width=\"100%\" height=\"500\" allow=\"autoplay; camera; microphone; clipboard-read; clipboard-write;\" frameborder=\"0\" allowfullscreen></iframe></div>"
      ],
      "text/plain": [
       "<IPython.core.display.HTML object>"
      ]
     },
     "metadata": {},
     "output_type": "display_data"
    },
    {
     "data": {
      "text/plain": []
     },
     "execution_count": 9,
     "metadata": {},
     "output_type": "execute_result"
    }
   ],
   "source": [
    "import gradio as gr\n",
    "import requests\n",
    "\n",
    "def get_message_history(chat_history):\n",
    "    history_list = list()\n",
    "    history_length = 3\n",
    "\n",
    "    for chat in chat_history[-history_length:]:\n",
    "        #print(chat[0], chat[1])\n",
    "        history_list.append({\"role\": \"user\",\"content\": chat[0]})\n",
    "        history_list.append({\"role\": \"assistant\",\"content\": chat[1]})\n",
    "    return history_list\n",
    "\n",
    "def request_gpt(prompt, history_list):\n",
    "\n",
    "    # 1. endpoint\n",
    "\n",
    "    # 2. header\n",
    "    headers = {\n",
    "        \"Content-Type\":\"application/json\",\n",
    "        \"api-key\": api_key\n",
    "    }\n",
    "    \n",
    "    \n",
    "    # 이전 메세지와 입련된 prompt 처리하기 \n",
    "    message_list = list()\n",
    "    message_list.append({\"role\": \"system\",\"content\":\"당신이 요청한 내용을 더 명확하고 실행 가능한 전문가 시스템으로 구성하기 위해 지침을 재정리하겠습니다.\\n\\n---\\n\\n당신은 인체기능해부학의 전문가로, 정밀한 의학 및 생리학적 지식을 바탕으로 질문에 대한 답변을 제공하는 것이 목표입니다. 질문자가 제시한 주제에 대해 구체적이고 정확한 정보를 전달하며, 필요시 예시 및 시각 자료 설명을 포함합니다.\\n\\n# 지침\\n\\n1. **전문적이고 명확한 표현**: 전문적인 어휘와 설명을 사용하되, 질문자의 수준에 맞춰 쉽게 이해할 수 있는 단어와 문장을 선택합니다.\\n2. **정확한 정보 제공**: 최신 의학 표준 및 연구에 근거한 정보를 제공합니다.\\n3. **단계적 설명**: 복잡한 개념은 단계적으로 분리하여 설명합니다.\\n4. **사용자의 추가 요청 반영**: 사용자가 추가 정보를 요청할 경우, 그것을 구체적으로 반영합니다.\\n5. **필요시 그림 및 도표의 언급**: \\\"이 부위는 신체의 특정 위치에 있으니, 일반적인 인체 해부학 도표의 [위치]를 참조하세요.\\\" 같은 방식으로 시각적 자료를 지원합니다.\\n6. **가능한 출력 형식**: 텍스트 (및 JSON 형식)이 요청될 경우 조직화된 형태로 제공할 수 있습니다.\\n\\n# 출력 포맷\\n\\n- 간략한 문단형 설명 또는 단계별 개요.\\n- 특정 데이터를 포함한다면 표 형식 또는 JSON으로 간결하게 요약 가능.\\n\\n# 예시\\n\\n**질문**: \\\"팔꿈치 관절의 주요 기능과 구조를 설명해주세요.\\\"\\n\\n**답변**:\\n\\n팔꿈치(Elbow joint)는 신체에서 중요한 힌지 관절 중 하나로서, 주로 아래의 세 가지 주요 구조로 구성되어 있습니다:\\n\\n1. **골격 구조**:\\n   - 상완골(Humerus), 요골(Radius) 및 척골(Ulna)이 팔꿈치를 형성합니다.\\n2. **관절과 인대**:\\n   - 주관절(Main Joint): Humeroulnar joint (주로 굴곡과 신전 운동을 담당)\\n   - 일부 안정성을 제공하는 인대: 내측 측부인대(Ulnar collateral ligament)와 외측 측부인대(Radial collateral ligament)\\n3. **주요 근육**:\\n   - 상완이두근(Biceps Brachii): 팔꿈치 굴곡에 기여\\n   - 상완삼두근(Triceps Brachii): 팔꿈치 신전에 기여\\n\\n### 주요 기능:\\n- 완전한 팔의 이동성 (Flexion and Extension)\\n- 안정적인 아래팔의 위치 조절 (Pronation/Supination을 돕는 관절 포함)\\n\\n### 도움말:\\n자세한 해부학적 위치는 표준 해부학 도표에서 \\\"상완-요골-척골 연결 구조\\\"를 참조하면 시각적 요소가 더 이해를 도울 것입니다.\\n\\n\\n---\\n### 참조\\n데이터에 있는내용을 적극적으로 활용할것!\\n\\n---\\n필요한 경우 구체적인 요청사항을 자유롭게 알려주세요!\"})\n",
    "    # fewshot은 여기에....\n",
    "    message_list.extend(history_list)\n",
    "    message_list.append({\"role\": \"user\",\"content\":prompt})\n",
    "\n",
    "    # 3. body\n",
    "    paylod = {\n",
    "        \"messages\": message_list,\n",
    "        \"temperature\": 0.7,\n",
    "        \"top_p\": 0.95,\n",
    "        \"max_tokens\": 800,\n",
    "        \"data_sources\": [{\n",
    "          \"type\": \"azure_search\",\n",
    "          \"parameters\": {\n",
    "            \"endpoint\": f\"{search_endpoint}\",\n",
    "            \"index_name\": index_name,\n",
    "            \"semantic_configuration\": semantic_configuration,\n",
    "            \"query_type\": \"semantic\",\n",
    "            \"fields_mapping\": {},\n",
    "            \"in_scope\": True,\n",
    "            \"role_information\": \"당신이 요청한 내용을 더 명확하고 실행 가능한 전문가 시스템으로 구성하기 위해 지침을 재정리하겠습니다.\\n\\n---\\n\\n당신은 인체기능해부학의 전문가로, 정밀한 의학 및 생리학적 지식을 바탕으로 질문에 대한 답변을 제공하는 것이 목표입니다. 질문자가 제시한 주제에 대해 구체적이고 정확한 정보를 전달하며, 필요시 예시 및 시각 자료 설명을 포함합니다.\\n\\n# 지침\\n\\n1. **전문적이고 명확한 표현**: 전문적인 어휘와 설명을 사용하되, 질문자의 수준에 맞춰 쉽게 이해할 수 있는 단어와 문장을 선택합니다.\\n2. **정확한 정보 제공**: 최신 의학 표준 및 연구에 근거한 정보를 제공합니다.\\n3. **단계적 설명**: 복잡한 개념은 단계적으로 분리하여 설명합니다.\\n4. **사용자의 추가 요청 반영**: 사용자가 추가 정보를 요청할 경우, 그것을 구체적으로 반영합니다.\\n5. **필요시 그림 및 도표의 언급**: \\\"이 부위는 신체의 특정 위치에 있으니, 일반적인 인체 해부학 도표의 [위치]를 참조하세요.\\\" 같은 방식으로 시각적 자료를 지원합니다.\\n6. **가능한 출력 형식**: 텍스트 (및 JSON 형식)이 요청될 경우 조직화된 형태로 제공할 수 있습니다.\\n\\n# 출력 포맷\\n\\n- 간략한 문단형 설명 또는 단계별 개요.\\n- 특정 데이터를 포함한다면 표 형식 또는 JSON으로 간결하게 요약 가능.\\n\\n# 예시\\n\\n**질문**: \\\"팔꿈치 관절의 주요 기능과 구조를 설명해주세요.\\\"\\n\\n**답변**:\\n\\n팔꿈치(Elbow joint)는 신체에서 중요한 힌지 관절 중 하나로서, 주로 아래의 세 가지 주요 구조로 구성되어 있습니다:\\n\\n1. **골격 구조**:\\n   - 상완골(Humerus), 요골(Radius) 및 척골(Ulna)이 팔꿈치를 형성합니다.\\n2. **관절과 인대**:\\n   - 주관절(Main Joint): Humeroulnar joint (주로 굴곡과 신전 운동을 담당)\\n   - 일부 안정성을 제공하는 인대: 내측 측부인대(Ulnar collateral ligament)와 외측 측부인대(Radial collateral ligament)\\n3. **주요 근육**:\\n   - 상완이두근(Biceps Brachii): 팔꿈치 굴곡에 기여\\n   - 상완삼두근(Triceps Brachii): 팔꿈치 신전에 기여\\n\\n### 주요 기능:\\n- 완전한 팔의 이동성 (Flexion and Extension)\\n- 안정적인 아래팔의 위치 조절 (Pronation/Supination을 돕는 관절 포함)\\n\\n### 도움말:\\n자세한 해부학적 위치는 표준 해부학 도표에서 \\\"상완-요골-척골 연결 구조\\\"를 참조하면 시각적 요소가 더 이해를 도울 것입니다.\\n\\n\\n---\\n### 참조\\n데이터에 있는내용을 적극적으로 활용할것!\\n\\n---\\n필요한 경우 구체적인 요청사항을 자유롭게 알려주세요!\",\n",
    "            \"filter\": None,\n",
    "            \"strictness\": 3,\n",
    "            \"top_n_documents\": 5,\n",
    "            \"authentication\": {\n",
    "              \"type\": \"api_key\",\n",
    "              \"key\": f\"{search_key}\"\n",
    "            }\n",
    "          }\n",
    "        }]\n",
    "    }\n",
    "    # 4. method - post\n",
    "    response = requests.post(endpoint, headers=headers, json=paylod)\n",
    "\n",
    "    if response.status_code == 200:\n",
    "        response_json = response.json()\n",
    "        content_text = response_json[\"choices\"][0]['message']['content']\n",
    "        if response_json[\"choices\"][0]['message']['context'][\"citations\"]:\n",
    "            display(response_json[\"choices\"][0]['message']['context'][\"citations\"])\n",
    "            citiation = []\n",
    "            for i in response_json[\"choices\"][0]['message']['context'][\"citations\"]:\n",
    "                citiation.append(i[\"content\"])\n",
    "        else:\n",
    "            citiation = \"\"\n",
    "            \n",
    "        return content_text, citiation\n",
    "    else:\n",
    "        return f'{response.status_code}, {response.text}', \"\"\n",
    "    \n",
    "def make_img(input_text):\n",
    "    \n",
    "    #header\n",
    "    header = {\n",
    "        'Content-Type':'application',\n",
    "        'api-key':api_key_2\n",
    "    }\n",
    "    #body\n",
    "    body = {\n",
    "        \"prompt\": input_text,\n",
    "        \"n\": 1,\n",
    "        \"size\": \"1024x1024\"\n",
    "    }\n",
    "\n",
    "    response = requests.post(url=end_point_2, headers=header, json=body)\n",
    "    url = response.json()[\"data\"][0][\"url\"]\n",
    "    \n",
    "    if response.status_code == 200:\n",
    "        return url\n",
    "    else:\n",
    "        return \"\"\n",
    "\n",
    "    \n",
    "def click_send(input_message, chat_history ):\n",
    "\n",
    "    history_list = get_message_history(chat_history)\n",
    "    bot_message, citiation = request_gpt(input_message, history_list)\n",
    "    chat_history.append((input_message, bot_message))\n",
    "    return \"\", chat_history, citiation\n",
    "\n",
    "with gr.Blocks() as demo:\n",
    "\n",
    "    #chatbot = gr.Chatbot(type=\"messages\")\n",
    "    chatbot = gr.Chatbot()\n",
    "    citiation = gr.HTML(label=\"참조\")\n",
    "    input_textbox = gr.Textbox(label=\"\" , scale=7)\n",
    "    submit_button = gr.Button(\"전송\")\n",
    "    img_box = gr.Image()\n",
    "    input_imgbox = gr.Textbox(label=\"만들고 싶은 이미지 프롬프트를 입력하세요\")\n",
    "    img_button = gr.Button(\"전송\")\n",
    "\n",
    "    submit_button.click(fn=click_send, inputs=[input_textbox, chatbot], outputs=[input_textbox, chatbot, citiation])\n",
    "    input_textbox.submit(fn=click_send, \n",
    "                         inputs=[input_textbox, chatbot], \n",
    "                         outputs=[input_textbox, chatbot, citiation])\n",
    "    img_button.click(fn=make_img, inputs=input_imgbox, outputs=img_box)\n",
    "\n",
    "demo.launch() #share=True"
   ]
  }
 ],
 "metadata": {
  "kernelspec": {
   "display_name": "Python 3",
   "language": "python",
   "name": "python3"
  },
  "language_info": {
   "codemirror_mode": {
    "name": "ipython",
    "version": 3
   },
   "file_extension": ".py",
   "mimetype": "text/x-python",
   "name": "python",
   "nbconvert_exporter": "python",
   "pygments_lexer": "ipython3",
   "version": "3.13.1"
  }
 },
 "nbformat": 4,
 "nbformat_minor": 2
}
