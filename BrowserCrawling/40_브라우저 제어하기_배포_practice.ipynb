{
 "cells": [
  {
   "cell_type": "markdown",
   "metadata": {},
   "source": [
    "# 웹드라이버 객체 생성\n",
    "- 웹드라이버 : 브라우저 조작을 위한 도구\n",
    "- selenium의 webdriver 모듈에서 Chrome 브라우저를 제어하기 위한 클래스 제공"
   ]
  },
  {
   "cell_type": "code",
   "execution_count": null,
   "metadata": {},
   "outputs": [],
   "source": [
    "pip install selenium==4.17.0"
   ]
  },
  {
   "cell_type": "code",
   "execution_count": null,
   "metadata": {},
   "outputs": [],
   "source": [
    "pip show selenium"
   ]
  },
  {
   "cell_type": "code",
   "execution_count": 1,
   "metadata": {},
   "outputs": [],
   "source": [
    "# 크롬 웹드라이버 클래스 import\n",
    "\n",
    "from selenium.webdriver import Chrome\n",
    "# 크롬 웹드라이버 객체 생성\n",
    "driver = Chrome()"
   ]
  },
  {
   "cell_type": "markdown",
   "metadata": {},
   "source": [
    "# 브라우저 제어\n",
    "    - `get(URL)` : 페이지로 이동하기기\n",
    "    - `back()` : 뒤로가기\n",
    "    - `forward()` : 앞으로가기\n",
    "    - `refresh()` : 새로고침\n",
    "    - `maximize_window()` : 브라우저크기 최대화\n",
    "    - `minimize_window()` : 브라우저크기 최소화\n",
    "    - `close()` : 웹드라이버로 생성한 현재 창 종료\n",
    "    - `quit()` : 웹드라이버로 생성한 모든 창 종료"
   ]
  },
  {
   "cell_type": "code",
   "execution_count": 19,
   "metadata": {},
   "outputs": [],
   "source": [
    "# 브라우저 크기 최소화\n",
    "\n",
    "\n",
    "# 브라우저 크기 최대화\n"
   ]
  },
  {
   "cell_type": "code",
   "execution_count": 2,
   "metadata": {},
   "outputs": [],
   "source": [
    "# 페이지 이동1\n",
    "driver.get('https://www.google.com')\n",
    "\n",
    "# 페이지 이동2\n",
    "\n",
    "driver.get('https://www.daum.net')\n",
    "# 페이지 이동3\n",
    "driver.get('https://www.naver.com')"
   ]
  },
  {
   "cell_type": "code",
   "execution_count": 8,
   "metadata": {},
   "outputs": [],
   "source": [
    "# 이전 페이지로 이동\n",
    "driver.back()"
   ]
  },
  {
   "cell_type": "code",
   "execution_count": 25,
   "metadata": {},
   "outputs": [],
   "source": [
    "# 다음 페이지로 이동\n",
    "driver.forward()"
   ]
  },
  {
   "cell_type": "code",
   "execution_count": null,
   "metadata": {},
   "outputs": [],
   "source": [
    "# 새로고침\n",
    "driver.refresh()"
   ]
  },
  {
   "cell_type": "code",
   "execution_count": 26,
   "metadata": {},
   "outputs": [],
   "source": [
    "# 웹드라이버로 생성한 모든 창 종료\n",
    "driver.quit()"
   ]
  },
  {
   "cell_type": "markdown",
   "metadata": {},
   "source": [
    "# 요소 가져오기\n",
    "    - `find_element(요소선택방법, 선택자)` : 첫번째 요소 한개만만 가져오기\n",
    "    - `find_elements(요소선택방법, 선택자)` : 요소 모두 가져오기 (리스트)"
   ]
  },
  {
   "cell_type": "code",
   "execution_count": null,
   "metadata": {},
   "outputs": [],
   "source": [
    "# 웹페이지 열고 이동하기 (http://www.naver.com)\n"
   ]
  },
  {
   "cell_type": "code",
   "execution_count": 10,
   "metadata": {},
   "outputs": [],
   "source": [
    "# 검색창 선택하기\n",
    "from selenium.webdriver.common.by import By\n",
    "search = driver.find_element(By.CSS_SELECTOR, '#query')"
   ]
  },
  {
   "cell_type": "markdown",
   "metadata": {},
   "source": [
    "# 요소 제어하기\n",
    "    - `click()` : 요소 클릭\n",
    "    - `send_keys()` : 키 입력"
   ]
  },
  {
   "cell_type": "code",
   "execution_count": 11,
   "metadata": {},
   "outputs": [],
   "source": [
    "# 검색창 클릭\n",
    "search.click()"
   ]
  },
  {
   "cell_type": "code",
   "execution_count": 7,
   "metadata": {},
   "outputs": [],
   "source": [
    "# 검색어 입력\n",
    "search.send_keys('인스타그램' + '\\n')"
   ]
  },
  {
   "cell_type": "code",
   "execution_count": null,
   "metadata": {},
   "outputs": [],
   "source": [
    "# 엔터키 입력\n",
    "from selenium.webdriver.common.keys import Keys\n",
    "search.send_keys(Keys.ENTER)"
   ]
  },
  {
   "cell_type": "code",
   "execution_count": 12,
   "metadata": {},
   "outputs": [],
   "source": [
    "# 브라우저 닫기\n",
    "driver.quit()"
   ]
  }
 ],
 "metadata": {
  "kernelspec": {
   "display_name": "Python 3",
   "language": "python",
   "name": "python3"
  },
  "language_info": {
   "codemirror_mode": {
    "name": "ipython",
    "version": 3
   },
   "file_extension": ".py",
   "mimetype": "text/x-python",
   "name": "python",
   "nbconvert_exporter": "python",
   "pygments_lexer": "ipython3",
   "version": "3.13.1"
  }
 },
 "nbformat": 4,
 "nbformat_minor": 2
}
